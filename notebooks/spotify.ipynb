{
 "cells": [
  {
   "cell_type": "markdown",
   "id": "f9d1e6e3",
   "metadata": {},
   "source": []
  }
 ],
 "metadata": {
  "language_info": {
   "name": "python"
  }
 },
 "nbformat": 4,
 "nbformat_minor": 5
}
