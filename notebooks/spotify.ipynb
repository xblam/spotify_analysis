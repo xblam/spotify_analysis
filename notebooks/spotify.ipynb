{
 "cells": [
  {
   "cell_type": "code",
   "execution_count": 12,
   "id": "034d3986",
   "metadata": {},
   "outputs": [],
   "source": [
    "import numpy as np\n",
    "import pandas as pd\n",
    "import matplotlib.pyplot as plt\n",
    "import seaborn as sns\n",
    "from sklearn.model_selection import train_test_split  \n",
    "from sklearn.linear_model import LogisticRegression, LinearRegression\n",
    "from sklearn.neural_network import MLPClassifier\n",
    "from sklearn.metrics import accuracy_score, confusion_matrix, classification_report\n",
    "from xgboost import XGBClassifier, XGBRegressor\n",
    "from sklearn.metrics import roc_curve, roc_auc_score\n",
    "from sklearn.metrics import precision_recall_curve, average_precision_score\n",
    "\n",
    "plt.style.use('ggplot') # this format looks nice\n",
    "pd.set_option('display.max_columns', 200) # show more columns in output\n",
    "pd.set_option('display.max_rows', 100)  # Or any number you want"
   ]
  },
  {
   "cell_type": "markdown",
   "id": "c173f128",
   "metadata": {},
   "source": [
    "# Understanding the Data\n",
    "* shape\n",
    "* head and tail\n",
    "* dtypes\n",
    "* describe\n",
    "* missing values"
   ]
  },
  {
   "cell_type": "markdown",
   "id": "ad269780",
   "metadata": {},
   "source": [
    "# Cleaning the Data\n",
    "* drop rows we do not need\n",
    "* find duplicated columns/rows\n",
    "* renaming\n",
    "* feature creation"
   ]
  },
  {
   "cell_type": "markdown",
   "id": "5a26beb5",
   "metadata": {},
   "source": [
    "# Feature Understanding\n",
    "* univariate analysis\n",
    "* histograms\n",
    "* kdes\n",
    "* boxplots\n",
    "* pivot tables"
   ]
  },
  {
   "cell_type": "markdown",
   "id": "7873a089",
   "metadata": {},
   "source": [
    "# Feature Relationships\n",
    "* understanding how the features are related to each other\n",
    "* scatterplots\n",
    "* correlation and heatmaps\n",
    "* Pairplots\n",
    "* Group by comparisons"
   ]
  },
  {
   "cell_type": "markdown",
   "id": "2de58a09",
   "metadata": {},
   "source": [
    "# Asking questions about the data\n",
    "* trying to answer questions about the data using plots or statistics"
   ]
  },
  {
   "cell_type": "markdown",
   "id": "e97904c8",
   "metadata": {},
   "source": [
    "# Feature engineering\n",
    "* how to interpolate/remove missing values\n",
    "* how to encode categoricals (when nessecary)\n",
    "* which additional features should I add"
   ]
  },
  {
   "cell_type": "markdown",
   "id": "0f4c775c",
   "metadata": {},
   "source": [
    "# Model creation\n",
    "* make simple models and test performance\n",
    "* analyze what they get right and wrong\n",
    "* decide if we should improve current model, try another model, or go back to feature engineering\n",
    "* work until model performance is arbitrarily high enough"
   ]
  },
  {
   "cell_type": "markdown",
   "id": "8f492d8e",
   "metadata": {},
   "source": [
    "# Model Evaluation\n"
   ]
  },
  {
   "cell_type": "markdown",
   "id": "b9e425aa",
   "metadata": {},
   "source": [
    "# Final output on test set\n",
    "* from all the models it seems that Neural Nets perform the best (albeit only slightly better than \n",
    "the other methods)\n",
    "* output test set to output file"
   ]
  }
 ],
 "metadata": {
  "kernelspec": {
   "display_name": "base",
   "language": "python",
   "name": "python3"
  },
  "language_info": {
   "codemirror_mode": {
    "name": "ipython",
    "version": 3
   },
   "file_extension": ".py",
   "mimetype": "text/x-python",
   "name": "python",
   "nbconvert_exporter": "python",
   "pygments_lexer": "ipython3",
   "version": "3.12.3"
  }
 },
 "nbformat": 4,
 "nbformat_minor": 5
}
