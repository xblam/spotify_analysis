{
 "cells": [
  {
   "cell_type": "code",
   "execution_count": 26,
   "id": "034d3986",
   "metadata": {},
   "outputs": [],
   "source": [
    "import numpy as np\n",
    "import pandas as pd\n",
    "import matplotlib.pyplot as plt\n",
    "import seaborn as sns\n",
    "from sklearn.model_selection import train_test_split  \n",
    "from sklearn.linear_model import LogisticRegression, LinearRegression\n",
    "from sklearn.neural_network import MLPClassifier\n",
    "from sklearn.metrics import accuracy_score, confusion_matrix, classification_report\n",
    "from xgboost import XGBClassifier, XGBRegressor\n",
    "from sklearn.metrics import roc_curve, roc_auc_score\n",
    "from sklearn.metrics import precision_recall_curve, average_precision_score\n",
    "\n",
    "plt.style.use('ggplot') # this format looks nice\n",
    "pd.set_option('display.max_columns', 200) # show more columns in output\n",
    "pd.set_option('display.max_rows', 100)  # Or any number you want"
   ]
  },
  {
   "cell_type": "code",
   "execution_count": 27,
   "id": "48779285",
   "metadata": {},
   "outputs": [],
   "source": [
    "df_raw = pd.read_csv('../input/spotify_history.csv')  # Load the dataset"
   ]
  },
  {
   "cell_type": "code",
   "execution_count": 28,
   "id": "31e6ce0b",
   "metadata": {},
   "outputs": [],
   "source": [
    "df = df_raw.copy()"
   ]
  },
  {
   "cell_type": "markdown",
   "id": "c173f128",
   "metadata": {},
   "source": [
    "# Understanding the Data\n",
    "* shape\n",
    "* head and tail\n",
    "* dtypes\n",
    "* describe\n",
    "* missing values"
   ]
  },
  {
   "cell_type": "code",
   "execution_count": 29,
   "id": "632297c4",
   "metadata": {},
   "outputs": [
    {
     "data": {
      "text/plain": [
       "Index(['spotify_track_uri', 'ts', 'platform', 'ms_played', 'track_name',\n",
       "       'artist_name', 'album_name', 'reason_start', 'reason_end', 'shuffle',\n",
       "       'skipped'],\n",
       "      dtype='object')"
      ]
     },
     "execution_count": 29,
     "metadata": {},
     "output_type": "execute_result"
    }
   ],
   "source": [
    "df.head()\n",
    "df.columns"
   ]
  },
  {
   "cell_type": "code",
   "execution_count": 30,
   "id": "6a1f239f",
   "metadata": {},
   "outputs": [
    {
     "data": {
      "text/plain": [
       "(149860, 11)"
      ]
     },
     "execution_count": 30,
     "metadata": {},
     "output_type": "execute_result"
    }
   ],
   "source": [
    "df.shape"
   ]
  },
  {
   "cell_type": "code",
   "execution_count": 33,
   "id": "9d1164df",
   "metadata": {},
   "outputs": [
    {
     "name": "stdout",
     "output_type": "stream",
     "text": [
      "spotify_track_uri: 16527 unique values\n",
      "ts: 140422 unique values\n",
      "platform: 6 unique values\n",
      "ms_played: int64\n",
      "track_name: 13839 unique values\n",
      "artist_name: 4113 unique values\n",
      "album_name: 7948 unique values\n",
      "reason_start: 13 unique values\n",
      "reason_end: 15 unique values\n",
      "shuffle: bool\n",
      "skipped: bool\n"
     ]
    }
   ],
   "source": [
    "for col in df.columns:\n",
    "    if df[col].dtype == 'object':\n",
    "        print(f\"{col}: {df[col].nunique()} unique values\")\n",
    "    else:\n",
    "        print(f\"{col}: {df[col].dtype}\")\n"
   ]
  },
  {
   "cell_type": "code",
   "execution_count": 34,
   "id": "47daaee4",
   "metadata": {},
   "outputs": [
    {
     "name": "stdout",
     "output_type": "stream",
     "text": [
      "<class 'pandas.core.frame.DataFrame'>\n",
      "RangeIndex: 149860 entries, 0 to 149859\n",
      "Data columns (total 11 columns):\n",
      " #   Column             Non-Null Count   Dtype \n",
      "---  ------             --------------   ----- \n",
      " 0   spotify_track_uri  149860 non-null  object\n",
      " 1   ts                 149860 non-null  object\n",
      " 2   platform           149860 non-null  object\n",
      " 3   ms_played          149860 non-null  int64 \n",
      " 4   track_name         149860 non-null  object\n",
      " 5   artist_name        149860 non-null  object\n",
      " 6   album_name         149860 non-null  object\n",
      " 7   reason_start       149717 non-null  object\n",
      " 8   reason_end         149743 non-null  object\n",
      " 9   shuffle            149860 non-null  bool  \n",
      " 10  skipped            149860 non-null  bool  \n",
      "dtypes: bool(2), int64(1), object(8)\n",
      "memory usage: 10.6+ MB\n"
     ]
    }
   ],
   "source": [
    "df.info()"
   ]
  },
  {
   "cell_type": "code",
   "execution_count": 40,
   "id": "f08559d6",
   "metadata": {},
   "outputs": [
    {
     "data": {
      "text/plain": [
       "artist_name\n",
       "The Beatles           470\n",
       "The Killers           155\n",
       "Paul McCartney        155\n",
       "John Mayer            115\n",
       "The Rolling Stones    111\n",
       "The Black Keys        107\n",
       "Bob Dylan             100\n",
       "Howard Shore           98\n",
       "Led Zeppelin           94\n",
       "Johnny Cash            85\n",
       "Name: track_name, dtype: int64"
      ]
     },
     "execution_count": 40,
     "metadata": {},
     "output_type": "execute_result"
    }
   ],
   "source": [
    "# who are the artists with the most unique tracks\n",
    "df.groupby('artist_name')['track_name'].nunique().sort_values(ascending=False).head(10)"
   ]
  },
  {
   "cell_type": "code",
   "execution_count": 41,
   "id": "09061a26",
   "metadata": {},
   "outputs": [
    {
     "data": {
      "text/plain": [
       "artist_name\n",
       "The Beatles           1210184.552\n",
       "The Killers           1059556.516\n",
       "John Mayer             725219.443\n",
       "Bob Dylan              569456.396\n",
       "Paul McCartney         357354.370\n",
       "Howard Shore           348930.675\n",
       "The Strokes            317508.419\n",
       "The Rolling Stones     307917.009\n",
       "Pink Floyd             260531.842\n",
       "Led Zeppelin           248338.279\n",
       "Name: seconds, dtype: float64"
      ]
     },
     "execution_count": 41,
     "metadata": {},
     "output_type": "execute_result"
    }
   ],
   "source": [
    "# who are the artists with the most play time\n",
    "df.groupby('artist_name')['seconds'].sum().sort_values(ascending=False).head(10)"
   ]
  },
  {
   "cell_type": "code",
   "execution_count": null,
   "id": "214fc822",
   "metadata": {},
   "outputs": [
    {
     "data": {
      "text/html": [
       "<div>\n",
       "<style scoped>\n",
       "    .dataframe tbody tr th:only-of-type {\n",
       "        vertical-align: middle;\n",
       "    }\n",
       "\n",
       "    .dataframe tbody tr th {\n",
       "        vertical-align: top;\n",
       "    }\n",
       "\n",
       "    .dataframe thead th {\n",
       "        text-align: right;\n",
       "    }\n",
       "</style>\n",
       "<table border=\"1\" class=\"dataframe\">\n",
       "  <thead>\n",
       "    <tr style=\"text-align: right;\">\n",
       "      <th></th>\n",
       "      <th>spotify_track_uri</th>\n",
       "      <th>ts</th>\n",
       "      <th>platform</th>\n",
       "      <th>ms_played</th>\n",
       "      <th>track_name</th>\n",
       "      <th>artist_name</th>\n",
       "      <th>album_name</th>\n",
       "      <th>reason_start</th>\n",
       "      <th>reason_end</th>\n",
       "      <th>shuffle</th>\n",
       "      <th>skipped</th>\n",
       "      <th>seconds</th>\n",
       "    </tr>\n",
       "  </thead>\n",
       "  <tbody>\n",
       "    <tr>\n",
       "      <th>0</th>\n",
       "      <td>2J3n32GeLmMjwuAzyhcSNe</td>\n",
       "      <td>2013-07-08 02:44:34</td>\n",
       "      <td>web player</td>\n",
       "      <td>3185</td>\n",
       "      <td>Say It, Just Say It</td>\n",
       "      <td>The Mowgli's</td>\n",
       "      <td>Waiting For The Dawn</td>\n",
       "      <td>autoplay</td>\n",
       "      <td>clickrow</td>\n",
       "      <td>False</td>\n",
       "      <td>False</td>\n",
       "      <td>3.185</td>\n",
       "    </tr>\n",
       "    <tr>\n",
       "      <th>1</th>\n",
       "      <td>1oHxIPqJyvAYHy0PVrDU98</td>\n",
       "      <td>2013-07-08 02:45:37</td>\n",
       "      <td>web player</td>\n",
       "      <td>61865</td>\n",
       "      <td>Drinking from the Bottle (feat. Tinie Tempah)</td>\n",
       "      <td>Calvin Harris</td>\n",
       "      <td>18 Months</td>\n",
       "      <td>clickrow</td>\n",
       "      <td>clickrow</td>\n",
       "      <td>False</td>\n",
       "      <td>False</td>\n",
       "      <td>61.865</td>\n",
       "    </tr>\n",
       "    <tr>\n",
       "      <th>2</th>\n",
       "      <td>487OPlneJNni3NWC8SYqhW</td>\n",
       "      <td>2013-07-08 02:50:24</td>\n",
       "      <td>web player</td>\n",
       "      <td>285386</td>\n",
       "      <td>Born To Die</td>\n",
       "      <td>Lana Del Rey</td>\n",
       "      <td>Born To Die - The Paradise Edition</td>\n",
       "      <td>clickrow</td>\n",
       "      <td>unknown</td>\n",
       "      <td>False</td>\n",
       "      <td>False</td>\n",
       "      <td>285.386</td>\n",
       "    </tr>\n",
       "    <tr>\n",
       "      <th>3</th>\n",
       "      <td>5IyblF777jLZj1vGHG2UD3</td>\n",
       "      <td>2013-07-08 02:52:40</td>\n",
       "      <td>web player</td>\n",
       "      <td>134022</td>\n",
       "      <td>Off To The Races</td>\n",
       "      <td>Lana Del Rey</td>\n",
       "      <td>Born To Die - The Paradise Edition</td>\n",
       "      <td>trackdone</td>\n",
       "      <td>clickrow</td>\n",
       "      <td>False</td>\n",
       "      <td>False</td>\n",
       "      <td>134.022</td>\n",
       "    </tr>\n",
       "    <tr>\n",
       "      <th>4</th>\n",
       "      <td>0GgAAB0ZMllFhbNc3mAodO</td>\n",
       "      <td>2013-07-08 03:17:52</td>\n",
       "      <td>web player</td>\n",
       "      <td>0</td>\n",
       "      <td>Half Mast</td>\n",
       "      <td>Empire Of The Sun</td>\n",
       "      <td>Walking On A Dream</td>\n",
       "      <td>clickrow</td>\n",
       "      <td>nextbtn</td>\n",
       "      <td>False</td>\n",
       "      <td>False</td>\n",
       "      <td>0.000</td>\n",
       "    </tr>\n",
       "  </tbody>\n",
       "</table>\n",
       "</div>"
      ],
      "text/plain": [
       "        spotify_track_uri                   ts    platform  ms_played  \\\n",
       "0  2J3n32GeLmMjwuAzyhcSNe  2013-07-08 02:44:34  web player       3185   \n",
       "1  1oHxIPqJyvAYHy0PVrDU98  2013-07-08 02:45:37  web player      61865   \n",
       "2  487OPlneJNni3NWC8SYqhW  2013-07-08 02:50:24  web player     285386   \n",
       "3  5IyblF777jLZj1vGHG2UD3  2013-07-08 02:52:40  web player     134022   \n",
       "4  0GgAAB0ZMllFhbNc3mAodO  2013-07-08 03:17:52  web player          0   \n",
       "\n",
       "                                      track_name        artist_name  \\\n",
       "0                            Say It, Just Say It       The Mowgli's   \n",
       "1  Drinking from the Bottle (feat. Tinie Tempah)      Calvin Harris   \n",
       "2                                    Born To Die       Lana Del Rey   \n",
       "3                               Off To The Races       Lana Del Rey   \n",
       "4                                      Half Mast  Empire Of The Sun   \n",
       "\n",
       "                           album_name reason_start reason_end  shuffle  \\\n",
       "0                Waiting For The Dawn     autoplay   clickrow    False   \n",
       "1                           18 Months     clickrow   clickrow    False   \n",
       "2  Born To Die - The Paradise Edition     clickrow    unknown    False   \n",
       "3  Born To Die - The Paradise Edition    trackdone   clickrow    False   \n",
       "4                  Walking On A Dream     clickrow    nextbtn    False   \n",
       "\n",
       "   skipped  seconds  \n",
       "0    False    3.185  \n",
       "1    False   61.865  \n",
       "2    False  285.386  \n",
       "3    False  134.022  \n",
       "4    False    0.000  "
      ]
     },
     "execution_count": 38,
     "metadata": {},
     "output_type": "execute_result"
    }
   ],
   "source": [
    "# decided to make a seconds column to make data easier to interpret\n",
    "df['seconds'] = df['ms_played'] / 1000\n",
    "df.head()\n"
   ]
  },
  {
   "cell_type": "markdown",
   "id": "ad269780",
   "metadata": {},
   "source": [
    "# Cleaning the Data\n",
    "* drop rows we do not need\n",
    "* find duplicated columns/rows\n",
    "* renaming\n",
    "* feature creation"
   ]
  },
  {
   "cell_type": "markdown",
   "id": "5a26beb5",
   "metadata": {},
   "source": [
    "# Feature Understanding\n",
    "* univariate analysis\n",
    "* histograms\n",
    "* kdes\n",
    "* boxplots\n",
    "* pivot tables"
   ]
  },
  {
   "cell_type": "markdown",
   "id": "7873a089",
   "metadata": {},
   "source": [
    "# Feature Relationships\n",
    "* understanding how the features are related to each other\n",
    "* scatterplots\n",
    "* correlation and heatmaps\n",
    "* Pairplots\n",
    "* Group by comparisons"
   ]
  },
  {
   "cell_type": "markdown",
   "id": "2de58a09",
   "metadata": {},
   "source": [
    "# Asking questions about the data\n",
    "* trying to answer questions about the data using plots or statistics"
   ]
  },
  {
   "cell_type": "markdown",
   "id": "e97904c8",
   "metadata": {},
   "source": [
    "# Feature engineering\n",
    "* how to interpolate/remove missing values\n",
    "* how to encode categoricals (when nessecary)\n",
    "* which additional features should I add"
   ]
  },
  {
   "cell_type": "markdown",
   "id": "0f4c775c",
   "metadata": {},
   "source": [
    "# Model creation\n",
    "* make simple models and test performance\n",
    "* analyze what they get right and wrong\n",
    "* decide if we should improve current model, try another model, or go back to feature engineering\n",
    "* work until model performance is arbitrarily high enough"
   ]
  },
  {
   "cell_type": "markdown",
   "id": "8f492d8e",
   "metadata": {},
   "source": [
    "# Model Evaluation\n"
   ]
  },
  {
   "cell_type": "markdown",
   "id": "b9e425aa",
   "metadata": {},
   "source": [
    "# Final output on test set\n",
    "* from all the models it seems that Neural Nets perform the best (albeit only slightly better than \n",
    "the other methods)\n",
    "* output test set to output file"
   ]
  }
 ],
 "metadata": {
  "kernelspec": {
   "display_name": "base",
   "language": "python",
   "name": "python3"
  },
  "language_info": {
   "codemirror_mode": {
    "name": "ipython",
    "version": 3
   },
   "file_extension": ".py",
   "mimetype": "text/x-python",
   "name": "python",
   "nbconvert_exporter": "python",
   "pygments_lexer": "ipython3",
   "version": "3.12.3"
  }
 },
 "nbformat": 4,
 "nbformat_minor": 5
}
